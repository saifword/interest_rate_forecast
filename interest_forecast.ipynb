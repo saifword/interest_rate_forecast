{
 "metadata": {
  "language_info": {
   "codemirror_mode": {
    "name": "ipython",
    "version": 3
   },
   "file_extension": ".py",
   "mimetype": "text/x-python",
   "name": "python",
   "nbconvert_exporter": "python",
   "pygments_lexer": "ipython3",
   "version": "3.8.5"
  },
  "orig_nbformat": 2,
  "kernelspec": {
   "name": "python385jvsc74a57bd0ad0daf1c0355b29c17fed04601f6a5947a5731a61628bc79e102951de5d03deb",
   "display_name": "Python 3.8.5 64-bit (conda)"
  }
 },
 "nbformat": 4,
 "nbformat_minor": 2,
 "cells": [
  {
   "cell_type": "code",
   "execution_count": 1,
   "metadata": {},
   "outputs": [],
   "source": [
    "import numpy as np \n",
    "import pandas as pd \n",
    "import matplotlib.pyplot as plt \n",
    "import seaborn as sns\n",
    "\n"
   ]
  },
  {
   "cell_type": "code",
   "execution_count": 3,
   "metadata": {},
   "outputs": [],
   "source": [
    "cli = pd.read_csv('data\\cli_us.csv')\n",
    "cpi = pd.read_csv('data\\cpi.csv')\n",
    "employ_rate = pd.read_csv('data\\employ_rate.csv')\n",
    "gfcf = pd.read_csv('data\\gfcf.csv')\n",
    "house_cost = pd.read_csv('data\\house_cost.csv')\n",
    "ltint = pd.read_csv('data\\ltint_monthly.csv')\n",
    "stint = pd.read_csv('data\\stint_monthly.csv')\n",
    "gdp = pd.read_csv('data\\quart_gdp.csv')"
   ]
  },
  {
   "cell_type": "code",
   "execution_count": 4,
   "metadata": {},
   "outputs": [
    {
     "output_type": "execute_result",
     "data": {
      "text/plain": [
       "    LOCATION INDICATOR   SUBJECT    MEASURE FREQUENCY     TIME      Value  \\\n",
       "0        USA       CLI  AMPLITUD  LTRENDIDX         M  1998-04  100.60450   \n",
       "1        USA       CLI  AMPLITUD  LTRENDIDX         M  1998-05  100.41890   \n",
       "2        USA       CLI  AMPLITUD  LTRENDIDX         M  1998-06  100.20700   \n",
       "3        USA       CLI  AMPLITUD  LTRENDIDX         M  1998-07  100.00180   \n",
       "4        USA       CLI  AMPLITUD  LTRENDIDX         M  1998-08   99.82944   \n",
       "..       ...       ...       ...        ...       ...      ...        ...   \n",
       "271      USA       CLI  AMPLITUD  LTRENDIDX         M  2020-11   98.90533   \n",
       "272      USA       CLI  AMPLITUD  LTRENDIDX         M  2020-12   99.23566   \n",
       "273      USA       CLI  AMPLITUD  LTRENDIDX         M  2021-01   99.52099   \n",
       "274      USA       CLI  AMPLITUD  LTRENDIDX         M  2021-02   99.83073   \n",
       "275      USA       CLI  AMPLITUD  LTRENDIDX         M  2021-03  100.15090   \n",
       "\n",
       "     Flag Codes  \n",
       "0           NaN  \n",
       "1           NaN  \n",
       "2           NaN  \n",
       "3           NaN  \n",
       "4           NaN  \n",
       "..          ...  \n",
       "271         NaN  \n",
       "272         NaN  \n",
       "273         NaN  \n",
       "274         NaN  \n",
       "275         NaN  \n",
       "\n",
       "[276 rows x 8 columns]"
      ],
      "text/html": "<div>\n<style scoped>\n    .dataframe tbody tr th:only-of-type {\n        vertical-align: middle;\n    }\n\n    .dataframe tbody tr th {\n        vertical-align: top;\n    }\n\n    .dataframe thead th {\n        text-align: right;\n    }\n</style>\n<table border=\"1\" class=\"dataframe\">\n  <thead>\n    <tr style=\"text-align: right;\">\n      <th></th>\n      <th>LOCATION</th>\n      <th>INDICATOR</th>\n      <th>SUBJECT</th>\n      <th>MEASURE</th>\n      <th>FREQUENCY</th>\n      <th>TIME</th>\n      <th>Value</th>\n      <th>Flag Codes</th>\n    </tr>\n  </thead>\n  <tbody>\n    <tr>\n      <th>0</th>\n      <td>USA</td>\n      <td>CLI</td>\n      <td>AMPLITUD</td>\n      <td>LTRENDIDX</td>\n      <td>M</td>\n      <td>1998-04</td>\n      <td>100.60450</td>\n      <td>NaN</td>\n    </tr>\n    <tr>\n      <th>1</th>\n      <td>USA</td>\n      <td>CLI</td>\n      <td>AMPLITUD</td>\n      <td>LTRENDIDX</td>\n      <td>M</td>\n      <td>1998-05</td>\n      <td>100.41890</td>\n      <td>NaN</td>\n    </tr>\n    <tr>\n      <th>2</th>\n      <td>USA</td>\n      <td>CLI</td>\n      <td>AMPLITUD</td>\n      <td>LTRENDIDX</td>\n      <td>M</td>\n      <td>1998-06</td>\n      <td>100.20700</td>\n      <td>NaN</td>\n    </tr>\n    <tr>\n      <th>3</th>\n      <td>USA</td>\n      <td>CLI</td>\n      <td>AMPLITUD</td>\n      <td>LTRENDIDX</td>\n      <td>M</td>\n      <td>1998-07</td>\n      <td>100.00180</td>\n      <td>NaN</td>\n    </tr>\n    <tr>\n      <th>4</th>\n      <td>USA</td>\n      <td>CLI</td>\n      <td>AMPLITUD</td>\n      <td>LTRENDIDX</td>\n      <td>M</td>\n      <td>1998-08</td>\n      <td>99.82944</td>\n      <td>NaN</td>\n    </tr>\n    <tr>\n      <th>...</th>\n      <td>...</td>\n      <td>...</td>\n      <td>...</td>\n      <td>...</td>\n      <td>...</td>\n      <td>...</td>\n      <td>...</td>\n      <td>...</td>\n    </tr>\n    <tr>\n      <th>271</th>\n      <td>USA</td>\n      <td>CLI</td>\n      <td>AMPLITUD</td>\n      <td>LTRENDIDX</td>\n      <td>M</td>\n      <td>2020-11</td>\n      <td>98.90533</td>\n      <td>NaN</td>\n    </tr>\n    <tr>\n      <th>272</th>\n      <td>USA</td>\n      <td>CLI</td>\n      <td>AMPLITUD</td>\n      <td>LTRENDIDX</td>\n      <td>M</td>\n      <td>2020-12</td>\n      <td>99.23566</td>\n      <td>NaN</td>\n    </tr>\n    <tr>\n      <th>273</th>\n      <td>USA</td>\n      <td>CLI</td>\n      <td>AMPLITUD</td>\n      <td>LTRENDIDX</td>\n      <td>M</td>\n      <td>2021-01</td>\n      <td>99.52099</td>\n      <td>NaN</td>\n    </tr>\n    <tr>\n      <th>274</th>\n      <td>USA</td>\n      <td>CLI</td>\n      <td>AMPLITUD</td>\n      <td>LTRENDIDX</td>\n      <td>M</td>\n      <td>2021-02</td>\n      <td>99.83073</td>\n      <td>NaN</td>\n    </tr>\n    <tr>\n      <th>275</th>\n      <td>USA</td>\n      <td>CLI</td>\n      <td>AMPLITUD</td>\n      <td>LTRENDIDX</td>\n      <td>M</td>\n      <td>2021-03</td>\n      <td>100.15090</td>\n      <td>NaN</td>\n    </tr>\n  </tbody>\n</table>\n<p>276 rows × 8 columns</p>\n</div>"
     },
     "metadata": {},
     "execution_count": 4
    }
   ],
   "source": [
    "cli"
   ]
  },
  {
   "cell_type": "code",
   "execution_count": 7,
   "metadata": {},
   "outputs": [],
   "source": [
    "def columns_fix(df):\n",
    "    df = df[['TIME', 'Value']]\n",
    "    df = df.rename(columns={'Value': string(df)})\n",
    "    return df"
   ]
  },
  {
   "cell_type": "code",
   "execution_count": 8,
   "metadata": {},
   "outputs": [
    {
     "output_type": "error",
     "ename": "NameError",
     "evalue": "name 'string' is not defined",
     "traceback": [
      "\u001b[1;31m---------------------------------------------------------------------------\u001b[0m",
      "\u001b[1;31mNameError\u001b[0m                                 Traceback (most recent call last)",
      "\u001b[1;32m<ipython-input-8-9768211ce93f>\u001b[0m in \u001b[0;36m<module>\u001b[1;34m\u001b[0m\n\u001b[1;32m----> 1\u001b[1;33m \u001b[0mtest\u001b[0m \u001b[1;33m=\u001b[0m \u001b[0mcolumns_fix\u001b[0m\u001b[1;33m(\u001b[0m\u001b[0mcpi\u001b[0m\u001b[1;33m)\u001b[0m\u001b[1;33m\u001b[0m\u001b[1;33m\u001b[0m\u001b[0m\n\u001b[0m",
      "\u001b[1;32m<ipython-input-7-1b4529b5d146>\u001b[0m in \u001b[0;36mcolumns_fix\u001b[1;34m(df)\u001b[0m\n\u001b[0;32m      1\u001b[0m \u001b[1;32mdef\u001b[0m \u001b[0mcolumns_fix\u001b[0m\u001b[1;33m(\u001b[0m\u001b[0mdf\u001b[0m\u001b[1;33m)\u001b[0m\u001b[1;33m:\u001b[0m\u001b[1;33m\u001b[0m\u001b[1;33m\u001b[0m\u001b[0m\n\u001b[0;32m      2\u001b[0m     \u001b[0mdf\u001b[0m \u001b[1;33m=\u001b[0m \u001b[0mdf\u001b[0m\u001b[1;33m[\u001b[0m\u001b[1;33m[\u001b[0m\u001b[1;34m'TIME'\u001b[0m\u001b[1;33m,\u001b[0m \u001b[1;34m'Value'\u001b[0m\u001b[1;33m]\u001b[0m\u001b[1;33m]\u001b[0m\u001b[1;33m\u001b[0m\u001b[1;33m\u001b[0m\u001b[0m\n\u001b[1;32m----> 3\u001b[1;33m     \u001b[0mdf\u001b[0m \u001b[1;33m=\u001b[0m \u001b[0mdf\u001b[0m\u001b[1;33m.\u001b[0m\u001b[0mrename\u001b[0m\u001b[1;33m(\u001b[0m\u001b[0mcolumns\u001b[0m\u001b[1;33m=\u001b[0m\u001b[1;33m{\u001b[0m\u001b[1;34m'Value'\u001b[0m\u001b[1;33m:\u001b[0m \u001b[0mstring\u001b[0m\u001b[1;33m(\u001b[0m\u001b[0mdf\u001b[0m\u001b[1;33m)\u001b[0m\u001b[1;33m}\u001b[0m\u001b[1;33m)\u001b[0m\u001b[1;33m\u001b[0m\u001b[1;33m\u001b[0m\u001b[0m\n\u001b[0m\u001b[0;32m      4\u001b[0m     \u001b[1;32mreturn\u001b[0m \u001b[0mdf\u001b[0m\u001b[1;33m\u001b[0m\u001b[1;33m\u001b[0m\u001b[0m\n",
      "\u001b[1;31mNameError\u001b[0m: name 'string' is not defined"
     ]
    }
   ],
   "source": [
    "test = columns_fix(cpi)"
   ]
  },
  {
   "cell_type": "code",
   "execution_count": 9,
   "metadata": {},
   "outputs": [],
   "source": [
    "cli = cli.rename(columns={'Value': 'cli'})"
   ]
  },
  {
   "cell_type": "code",
   "execution_count": 10,
   "metadata": {},
   "outputs": [
    {
     "output_type": "execute_result",
     "data": {
      "text/plain": [
       "        TIME        cli\n",
       "0    1998-04  100.60450\n",
       "1    1998-05  100.41890\n",
       "2    1998-06  100.20700\n",
       "3    1998-07  100.00180\n",
       "4    1998-08   99.82944\n",
       "..       ...        ...\n",
       "271  2020-11   98.90533\n",
       "272  2020-12   99.23566\n",
       "273  2021-01   99.52099\n",
       "274  2021-02   99.83073\n",
       "275  2021-03  100.15090\n",
       "\n",
       "[276 rows x 2 columns]"
      ],
      "text/html": "<div>\n<style scoped>\n    .dataframe tbody tr th:only-of-type {\n        vertical-align: middle;\n    }\n\n    .dataframe tbody tr th {\n        vertical-align: top;\n    }\n\n    .dataframe thead th {\n        text-align: right;\n    }\n</style>\n<table border=\"1\" class=\"dataframe\">\n  <thead>\n    <tr style=\"text-align: right;\">\n      <th></th>\n      <th>TIME</th>\n      <th>cli</th>\n    </tr>\n  </thead>\n  <tbody>\n    <tr>\n      <th>0</th>\n      <td>1998-04</td>\n      <td>100.60450</td>\n    </tr>\n    <tr>\n      <th>1</th>\n      <td>1998-05</td>\n      <td>100.41890</td>\n    </tr>\n    <tr>\n      <th>2</th>\n      <td>1998-06</td>\n      <td>100.20700</td>\n    </tr>\n    <tr>\n      <th>3</th>\n      <td>1998-07</td>\n      <td>100.00180</td>\n    </tr>\n    <tr>\n      <th>4</th>\n      <td>1998-08</td>\n      <td>99.82944</td>\n    </tr>\n    <tr>\n      <th>...</th>\n      <td>...</td>\n      <td>...</td>\n    </tr>\n    <tr>\n      <th>271</th>\n      <td>2020-11</td>\n      <td>98.90533</td>\n    </tr>\n    <tr>\n      <th>272</th>\n      <td>2020-12</td>\n      <td>99.23566</td>\n    </tr>\n    <tr>\n      <th>273</th>\n      <td>2021-01</td>\n      <td>99.52099</td>\n    </tr>\n    <tr>\n      <th>274</th>\n      <td>2021-02</td>\n      <td>99.83073</td>\n    </tr>\n    <tr>\n      <th>275</th>\n      <td>2021-03</td>\n      <td>100.15090</td>\n    </tr>\n  </tbody>\n</table>\n<p>276 rows × 2 columns</p>\n</div>"
     },
     "metadata": {},
     "execution_count": 10
    }
   ],
   "source": [
    "cli"
   ]
  },
  {
   "cell_type": "code",
   "execution_count": null,
   "metadata": {},
   "outputs": [],
   "source": []
  }
 ]
}